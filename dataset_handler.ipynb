{
 "cells": [
  {
   "cell_type": "code",
   "execution_count": 1,
   "id": "b5acd2d0f7db33ed",
   "metadata": {
    "ExecuteTime": {
     "end_time": "2024-12-04T16:45:10.369260Z",
     "start_time": "2024-12-04T16:45:08.837692Z"
    }
   },
   "outputs": [
    {
     "name": "stdout",
     "output_type": "stream",
     "text": [
      "CUDA is available: True\n",
      "Amount of CUDA devices available: 1\n",
      "Index of current CUDA device: 0\n",
      "Name of current CUDA device: Tesla V100-SXM3-32GB\n",
      "Amount of CPU cores available: 96\n"
     ]
    }
   ],
   "source": [
    "import torch\n",
    "import os\n",
    "\n",
    "print(f\"CUDA is available: {torch.cuda.is_available()}\")\n",
    "print(f\"Amount of CUDA devices available: {torch.cuda.device_count()}\")\n",
    "print(f\"Index of current CUDA device: {torch.cuda.current_device()}\")\n",
    "print(f\"Name of current CUDA device: {torch.cuda.get_device_name(torch.cuda.current_device())}\")\n",
    "print(f\"Amount of CPU cores available: {os.cpu_count()}\")\n",
    "\n",
    "device = torch.device('cuda' if torch.cuda.is_available() else 'cpu')\n",
    "cores = os.cpu_count()"
   ]
  },
  {
   "cell_type": "code",
   "execution_count": 2,
   "id": "a04ca2e4321eeec2",
   "metadata": {
    "ExecuteTime": {
     "end_time": "2024-12-04T16:45:26.343953Z",
     "start_time": "2024-12-04T16:45:10.395602Z"
    }
   },
   "outputs": [
    {
     "name": "stdout",
     "output_type": "stream",
     "text": [
      "Top 10 categories: {'village': 5000, 'vineyard': 5000, 'nursery': 5000, 'banquet_hall': 5000, 'beach': 5000, 'kindergarden_classroom': 5000, 'elevator_lobby': 5000, 'moat-water': 5000, 'islet': 5000, 'shopfront': 5000}\n"
     ]
    }
   ],
   "source": [
    "dataset_path = \"places365_standard/train\"\n",
    "category_counts = {}\n",
    "\n",
    "# Count images in each category folder\n",
    "for category in os.listdir(dataset_path):\n",
    "    category_path = os.path.join(dataset_path, category)\n",
    "    if os.path.isdir(category_path):\n",
    "        train_count = len(os.listdir(category_path))\n",
    "        category_counts[category] = train_count\n",
    "\n",
    "# Get top 15 categories\n",
    "top_categories = dict(sorted(category_counts.items(), key=lambda x: x[1], reverse=True)[:10])\n",
    "print(\"Top 10 categories:\", top_categories)\n"
   ]
  },
  {
   "cell_type": "code",
   "execution_count": 3,
   "id": "a9cde727c4f508ef",
   "metadata": {
    "ExecuteTime": {
     "end_time": "2024-12-04T16:45:26.491679Z",
     "start_time": "2024-12-04T16:45:26.489151Z"
    }
   },
   "outputs": [],
   "source": [
    "# overwrite top categories\n",
    "categories = [\n",
    "    \"village\",\n",
    "    \"vineyard\",\n",
    "    \"nursery\",\n",
    "    \"banquet_hall\",\n",
    "    \"beach\",\n",
    "    \"kindergarden_classroom\",\n",
    "    \"elevator_lobby\",\n",
    "    \"moat-water\",\n",
    "    \"islet\",\n",
    "    \"shopfront\"\n",
    "]"
   ]
  },
  {
   "cell_type": "code",
   "execution_count": 4,
   "id": "ef678ff9c88c5d5c",
   "metadata": {
    "ExecuteTime": {
     "end_time": "2024-12-04T16:50:15.279081Z",
     "start_time": "2024-12-04T16:45:26.511005Z"
    }
   },
   "outputs": [
    {
     "name": "stdout",
     "output_type": "stream",
     "text": [
      "Deleted existing directory.\n",
      "Hit iterator threshold for village training.\n",
      "Hit iterator threshold for vineyard training.\n",
      "Hit iterator threshold for nursery training.\n",
      "Hit iterator threshold for banquet_hall training.\n",
      "Hit iterator threshold for beach training.\n",
      "Hit iterator threshold for kindergarden_classroom training.\n",
      "Hit iterator threshold for elevator_lobby training.\n",
      "Hit iterator threshold for moat-water training.\n",
      "Hit iterator threshold for islet training.\n",
      "Hit iterator threshold for shopfront training.\n"
     ]
    }
   ],
   "source": [
    "import shutil\n",
    "\n",
    "IMAGES_AMOUNT = 999  # float('inf')\n",
    "iterator = 0\n",
    "\n",
    "subset_path = \"prepared_data\"\n",
    "if os.path.exists(subset_path):\n",
    "    shutil.rmtree(subset_path)\n",
    "    print(\"Deleted existing directory.\")\n",
    "os.makedirs(subset_path, exist_ok=True)\n",
    "\n",
    "# Create train, val, and gen directories\n",
    "train_path = os.path.join(subset_path, \"train\")\n",
    "test_path = os.path.join(subset_path, \"test\")\n",
    "generated_path = os.path.join(subset_path, \"gen\")\n",
    "os.makedirs(train_path, exist_ok=True)\n",
    "os.makedirs(test_path, exist_ok=True)\n",
    "os.makedirs(generated_path, exist_ok=True)\n",
    "\n",
    "# top_categories.keys() or categories\n",
    "for category in categories:\n",
    "    iterator = 0\n",
    "\n",
    "    # Create category-specific folders inside train, val, and gen directories\n",
    "    train_category_dir = os.path.join(train_path, category)\n",
    "    test_category_dir = os.path.join(test_path, category)\n",
    "    generated_category_dir = os.path.join(generated_path, category)\n",
    "    os.makedirs(train_category_dir, exist_ok=True)\n",
    "    os.makedirs(test_category_dir, exist_ok=True)\n",
    "    os.makedirs(generated_category_dir, exist_ok=True)\n",
    "\n",
    "    # Copy train images\n",
    "    train_split_path = os.path.join(\"places365_standard\", \"train\", category)\n",
    "    for img_name in os.listdir(train_split_path):\n",
    "        if iterator >= IMAGES_AMOUNT:\n",
    "            print(f\"Hit iterator threshold for {category} training.\")\n",
    "            break\n",
    "        shutil.copy(\n",
    "            os.path.join(train_split_path, img_name),\n",
    "            os.path.join(train_category_dir, img_name)\n",
    "        )\n",
    "        iterator += 1\n",
    "\n",
    "    iterator = 0\n",
    "\n",
    "    # Copy val images\n",
    "    test_split_path = os.path.join(\"places365_standard\", \"val\", category)\n",
    "    for img_name in os.listdir(test_split_path):\n",
    "        if iterator >= IMAGES_AMOUNT:\n",
    "            print(f\"Hit iterator threshold for {category} validation.\")\n",
    "            break\n",
    "        shutil.copy(\n",
    "            os.path.join(test_split_path, img_name),\n",
    "            os.path.join(test_category_dir, img_name)\n",
    "        )\n",
    "        iterator += 1\n",
    "\n",
    "    iterator = 0\n",
    "\n",
    "    # Copy generated images\n",
    "    generated_split_path = os.path.join(\"generated_dataset\", category)\n",
    "    for img_name in os.listdir(generated_split_path):\n",
    "        if iterator >= IMAGES_AMOUNT:\n",
    "            print(f\"Hit iterator threshold for {category} generated.\")\n",
    "            break\n",
    "        shutil.copy(\n",
    "            os.path.join(generated_split_path, img_name),\n",
    "            os.path.join(generated_category_dir, img_name)\n",
    "        )\n",
    "        iterator += 1\n"
   ]
  }
 ],
 "metadata": {
  "kernelspec": {
   "display_name": "Python 3",
   "language": "python",
   "name": "python3"
  },
  "language_info": {
   "codemirror_mode": {
    "name": "ipython",
    "version": 2
   },
   "file_extension": ".py",
   "mimetype": "text/x-python",
   "name": "python",
   "nbconvert_exporter": "python",
   "pygments_lexer": "ipython2",
   "version": "2.7.6"
  }
 },
 "nbformat": 4,
 "nbformat_minor": 5
}
